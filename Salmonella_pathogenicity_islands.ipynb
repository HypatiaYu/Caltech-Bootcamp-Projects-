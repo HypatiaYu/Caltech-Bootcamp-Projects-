{
 "cells": [
  {
   "cell_type": "code",
   "execution_count": 1,
   "metadata": {},
   "outputs": [],
   "source": [
    "def fasta_parser(file_name):\n",
    "    \n",
    "    \"\"\"Takes the name of the Fasta File and removes the heading\"\"\"\n",
    "    \n",
    "    #Open and Read the file\n",
    "    with open(file_name, \"r\") as f:\n",
    "        file = f.read()\n",
    "    \n",
    "    #Remove the headings off of the fasta file\n",
    "    file = file.split('\\n')[1:]\n",
    "    file = ''.join(file)\n",
    "    \n",
    "    #Make sure the entire string is in uppercase\n",
    "    file= file.upper()\n",
    "    \n",
    "    #Return the fasta file stored in a variable\n",
    "    return(file)"
   ]
  },
  {
   "cell_type": "code",
   "execution_count": 2,
   "metadata": {},
   "outputs": [],
   "source": [
    "def gc_content(block):\n",
    "    \n",
    "    \"\"\"Calculates the GC content of a nucleotide block\"\"\"\n",
    "    \n",
    "    #Calculate the number of nucleotides that are G or C     \n",
    "    gc_number = block.count('G') + block.count('C')\n",
    "    \n",
    "    #Calculate the total number of nucleotides in the sequence\n",
    "    sequence_length = block.count('G') + block.count('C') + block.count('A') + block.count('T')\n",
    "    \n",
    "    #divide to get the GC content \n",
    "    gc_content = gc_number / sequence_length\n",
    "    \n",
    "    return(gc_content)"
   ]
  },
  {
   "cell_type": "code",
   "execution_count": 6,
   "metadata": {},
   "outputs": [],
   "source": [
    "def gc_map(seq, block_size, gc_thresh):\n",
    "    \n",
    "    #List to store 4 nucleotide blocks \n",
    "    nucleotide_block = []\n",
    "    gc_block = []\n",
    "    \n",
    "    #index to keep track of which block number you are in. \n",
    "    J = 0 \n",
    "    \n",
    "    #add in each block depending on the specified block size for the entire genome from beginning to end/\n",
    "    while J < len(seq)/block_size: \n",
    "        nucleotide_block.append(seq[J : J + block_size])\n",
    "        J += 1\n",
    "    \n",
    "    #calculate the GC content for each block    \n",
    "    for i in range(0, len(nucleotide_block)): \n",
    "        gc = gc_content(nucleotide_block[i])\n",
    "        gc_block.append(gc)\n",
    "        \n",
    "    #Return the genome of segments GC content above the pathogenicity threshold in lowercase.     \n",
    "    for i in range(0, len(gc_block)): \n",
    "        if gc_block[i] < gc_thresh:\n",
    "            nucleotide_block[i] = nucleotide_block[i].lower()\n",
    "        \n",
    "    \n",
    "    return(nucleotide_block)"
   ]
  },
  {
   "cell_type": "code",
   "execution_count": 7,
   "metadata": {},
   "outputs": [
    {
     "name": "stdout",
     "output_type": "stream",
     "text": [
      "AAAACCTTAGTAACTGGACT\n"
     ]
    }
   ],
   "source": [
    "#Create a fasta File with the Salmonella Genome \n",
    "\n",
    "Salmonella_sequence = fasta_parser(\"salmonella_spi1_region.fna\")\n",
    "print(Salmonella_sequence[:20])"
   ]
  },
  {
   "cell_type": "code",
   "execution_count": 14,
   "metadata": {},
   "outputs": [],
   "source": [
    "#Identify pathogenicity islands for Salmonells \n",
    "\n",
    "salmonella_gc_seq = gc_map(Salmonella_sequence, 400, .45)"
   ]
  },
  {
   "cell_type": "code",
   "execution_count": 15,
   "metadata": {},
   "outputs": [],
   "source": [
    "#print out sequences with lower threshold\n",
    "\n",
    "for i in range(0, len(salmonella_gc_seq)): \n",
    "    block = salmonella_gc_seq[i]\n",
    "    if block.islower() == True:\n",
    "        print(block)"
   ]
  },
  {
   "cell_type": "code",
   "execution_count": null,
   "metadata": {},
   "outputs": [],
   "source": []
  }
 ],
 "metadata": {
  "kernelspec": {
   "display_name": "Python 3",
   "language": "python",
   "name": "python3"
  },
  "language_info": {
   "codemirror_mode": {
    "name": "ipython",
    "version": 3
   },
   "file_extension": ".py",
   "mimetype": "text/x-python",
   "name": "python",
   "nbconvert_exporter": "python",
   "pygments_lexer": "ipython3",
   "version": "3.7.3"
  }
 },
 "nbformat": 4,
 "nbformat_minor": 2
}
