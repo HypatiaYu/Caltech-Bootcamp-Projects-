{
 "cells": [
  {
   "cell_type": "code",
   "execution_count": 6,
   "metadata": {},
   "outputs": [],
   "source": [
    "def REMOVE_FASTA_HEADING(FILE_NAME):\n",
    "    \n",
    "    \"\"\"Given the name of the FASTA file, returns the entire genome as a string\"\"\"\n",
    "    \n",
    "    #Open the Fasta File where the Genome is stored\n",
    "    with open(FILE_NAME, \"r\") as f:\n",
    "        FILE = f.read()\n",
    "    \n",
    "    #Remove the heading of the Salmonella file, and concatenate the lines\n",
    "    FILE = FILE.split('\\n')[1:]\n",
    "    FILE = ''.join(FILE)\n",
    "    \n",
    "    #Return the concatenated file\n",
    "    return(FILE)"
   ]
  },
  {
   "cell_type": "code",
   "execution_count": 7,
   "metadata": {},
   "outputs": [],
   "source": [
    "def ATG_INDEX(GENOME_STRING):\n",
    "    \n",
    "    \"\"\"Function to locate ATG start sites are within the Salmonella Genome\"\"\"\n",
    "    \n",
    "    #Variables to store the index of each ATG start site\n",
    "    ATG_LIST = []\n",
    "    ATG_INDEX = 0\n",
    "    \n",
    "    #Iterate through the entire string to find where each ATG start site is, and append it to a lis\n",
    "    while ATG_INDEX < len(GENOME_STRING):\n",
    "        ATG_INDEX = GENOME_STRING.find('ATG', ATG_INDEX)\n",
    "        if ATG_INDEX == -1:\n",
    "            break\n",
    "        ATG_LIST.append(ATG_INDEX)\n",
    "        ATG_INDEX += 3\n",
    "    \n",
    "    #Return the List where all the ATG start sites are \n",
    "    return(ATG_LIST)"
   ]
  },
  {
   "cell_type": "code",
   "execution_count": 8,
   "metadata": {},
   "outputs": [],
   "source": [
    "def OPEN_READING_FRAME(START_INDEX, LIST):\n",
    "    \n",
    "    \"\"\"Finds the open reading frame that corresponds to one start site given the location of the start site\"\"\"\n",
    "    \n",
    "    #Variables to store codons\n",
    "    ORF_LIST = []\n",
    "    ORF = ''\n",
    "    \n",
    "    #Add codons one by one until it hits a stop codon\n",
    "    while (LIST[START_INDEX : START_INDEX + 3] != 'TGA') & (LIST[START_INDEX : START_INDEX + 3] != 'TAG') & (LIST[START_INDEX : START_INDEX + 3] != \"TAA\"):\n",
    "        CODON = LIST[START_INDEX : START_INDEX + 3]\n",
    "        ORF_LIST.append(CODON)\n",
    "        START_INDEX += 3\n",
    "    \n",
    "    #Add the stop codon\n",
    "    ORF_LIST.append(LIST[START_INDEX : START_INDEX + 3])\n",
    "    \n",
    "    #Return the joined list\n",
    "    return(ORF.join(ORF_LIST))"
   ]
  },
  {
   "cell_type": "code",
   "execution_count": 9,
   "metadata": {},
   "outputs": [],
   "source": [
    "def ORF_LIST(LIST):\n",
    "    \n",
    "    \"\"\"Make a list of all of the open reading frames\"\"\"\n",
    "    \n",
    "    #Make a list of the locations of all the ATG start sites\n",
    "    ATG_INDEX_LIST = ATG_INDEX(LIST)\n",
    "    \n",
    "    #List to store each of the Open reading frames\n",
    "    ORFS = []\n",
    "\n",
    "    #Iterate through the list of ATG start sites, to add it to the ORF_LIST one by one\n",
    "    for i in range(0, len(ATG_INDEX_LIST)):\n",
    "        START_INDEX = ATG_INDEX_LIST[i]\n",
    "        ORF = OPEN_READING_FRAME(START_INDEX, LIST)\n",
    "        ORFS.append(ORF)\n",
    "    \n",
    "    #Return the list of open reading frames \n",
    "    return(ORFS)"
   ]
  },
  {
   "cell_type": "code",
   "execution_count": 10,
   "metadata": {},
   "outputs": [],
   "source": [
    "def longest_orf(LIST):\n",
    "    \n",
    "    \"\"\"Finds the longest open reading frame\"\"\"\n",
    "    \n",
    "    #Get a list of all the open reading frames\n",
    "    ORFS = ORF_LIST(LIST)\n",
    "    \n",
    "    return(max(ORFS, key = len))    "
   ]
  },
  {
   "cell_type": "code",
   "execution_count": null,
   "metadata": {},
   "outputs": [],
   "source": []
  }
 ],
 "metadata": {
  "kernelspec": {
   "display_name": "Python 3",
   "language": "python",
   "name": "python3"
  },
  "language_info": {
   "codemirror_mode": {
    "name": "ipython",
    "version": 3
   },
   "file_extension": ".py",
   "mimetype": "text/x-python",
   "name": "python",
   "nbconvert_exporter": "python",
   "pygments_lexer": "ipython3",
   "version": "3.7.3"
  }
 },
 "nbformat": 4,
 "nbformat_minor": 2
}
