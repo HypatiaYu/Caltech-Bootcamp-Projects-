{
 "cells": [
  {
   "cell_type": "code",
   "execution_count": 1,
   "metadata": {},
   "outputs": [],
   "source": [
    "import numpy as np \n",
    "import random as rm\n",
    "import pandas as pd "
   ]
  },
  {
   "cell_type": "code",
   "execution_count": 2,
   "metadata": {},
   "outputs": [],
   "source": [
    "def backtrack(): \n",
    "    \" number of steps to get to position 1 by simulation\" \n",
    "    \n",
    "    # initial conditions \n",
    "    position = 0 \n",
    "    number_steps= 0\n",
    "    \n",
    "    #Should I take a step or not? \n",
    "    while position < 1: \n",
    "        number_steps +=1\n",
    "        #How does my position change based upon the number steps I take? \n",
    "        if np.random.uniform(size =1)<.5: \n",
    "            position += 1 \n",
    "\n",
    "        else: \n",
    "            position -=1 \n",
    "    \n",
    "    return number_steps"
   ]
  },
  {
   "cell_type": "code",
   "execution_count": null,
   "metadata": {},
   "outputs": [],
   "source": [
    "number_times = np.arange(10000)\n",
    "\n",
    "total_backtrack = []\n",
    "\n",
    "for i in number_times: \n",
    "    output = backtrack()\n",
    "    total_backtrack.append(output)"
   ]
  },
  {
   "cell_type": "code",
   "execution_count": null,
   "metadata": {},
   "outputs": [],
   "source": [
    "total_backtrack_array = np.asarray(total_backtrack)\n"
   ]
  },
  {
   "cell_type": "code",
   "execution_count": null,
   "metadata": {},
   "outputs": [],
   "source": [
    "#plot as ecdf pot \n",
    "\n",
    "import bokeh\n",
    "import bokeh_catplot \n",
    "\n",
    "p = bokeh_catplot.ecdf(\n",
    "    data = pd.DataFrame({'backtrack': total_backtrack_array}), \n",
    "    cats = None, \n",
    "    val = 'backtrack',\n",
    "    complementary=True,\n",
    "    y_axis_type='log',\n",
    "    x_axis_type='log'\n",
    ")\n",
    "\n",
    "bokeh.io.show(p)"
   ]
  }
 ],
 "metadata": {
  "kernelspec": {
   "display_name": "Python 3",
   "language": "python",
   "name": "python3"
  },
  "language_info": {
   "codemirror_mode": {
    "name": "ipython",
    "version": 3
   },
   "file_extension": ".py",
   "mimetype": "text/x-python",
   "name": "python",
   "nbconvert_exporter": "python",
   "pygments_lexer": "ipython3",
   "version": "3.7.3"
  }
 },
 "nbformat": 4,
 "nbformat_minor": 2
}
